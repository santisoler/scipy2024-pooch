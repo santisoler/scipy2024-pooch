{
 "cells": [
  {
   "cell_type": "code",
   "execution_count": 1,
   "id": "5a645303-f85f-4f86-8d03-1e0c03a9fd0c",
   "metadata": {
    "execution": {
     "iopub.execute_input": "2024-07-04T17:56:45.434750Z",
     "iopub.status.busy": "2024-07-04T17:56:45.434531Z",
     "iopub.status.idle": "2024-07-04T17:56:45.750980Z",
     "shell.execute_reply": "2024-07-04T17:56:45.750383Z",
     "shell.execute_reply.started": "2024-07-04T17:56:45.434729Z"
    }
   },
   "outputs": [],
   "source": [
    "import pandas as pd\n",
    "import pooch"
   ]
  },
  {
   "cell_type": "markdown",
   "id": "3886669a-a7ca-4b0b-88ae-ab5242ab8acd",
   "metadata": {},
   "source": [
    "## Manage multiple datasets with registry and Pooch class"
   ]
  },
  {
   "cell_type": "code",
   "execution_count": 2,
   "id": "81610327-a838-46c3-8241-36494acf6a20",
   "metadata": {
    "execution": {
     "iopub.execute_input": "2024-07-04T17:56:45.752635Z",
     "iopub.status.busy": "2024-07-04T17:56:45.752353Z",
     "iopub.status.idle": "2024-07-04T17:56:45.755970Z",
     "shell.execute_reply": "2024-07-04T17:56:45.754996Z",
     "shell.execute_reply.started": "2024-07-04T17:56:45.752615Z"
    }
   },
   "outputs": [],
   "source": [
    "REGISTRY = {\n",
    "    \"antarctica.csv\": \"8d32a1a4b500c443981c60fc45a7126b16a9fd6d330c8107a1e584b81e841e53\",\n",
    "    \"greenland.csv\": \"0538ba7f521e5a73a70faa00d7f917a8bbdb549c94a6b823685ff3da985cb939\",\n",
    "}"
   ]
  },
  {
   "cell_type": "code",
   "execution_count": 3,
   "id": "9c6b9f7f-609f-4ed7-8b5a-67ed3a9ee9b6",
   "metadata": {
    "execution": {
     "iopub.execute_input": "2024-07-04T17:56:45.756961Z",
     "iopub.status.busy": "2024-07-04T17:56:45.756654Z",
     "iopub.status.idle": "2024-07-04T17:56:45.759756Z",
     "shell.execute_reply": "2024-07-04T17:56:45.759234Z",
     "shell.execute_reply.started": "2024-07-04T17:56:45.756941Z"
    }
   },
   "outputs": [],
   "source": [
    "PUPPY = pooch.create(\n",
    "    path=pooch.os_cache(\"mypackage\"),\n",
    "    base_url=\"https://github.com/santisoler/ice-sheets/raw/main/datasets\",\n",
    "    registry=REGISTRY,\n",
    ")"
   ]
  },
  {
   "cell_type": "code",
   "execution_count": 4,
   "id": "41d59722-7a1b-4fa1-adaf-b3a7322452f0",
   "metadata": {
    "execution": {
     "iopub.execute_input": "2024-07-04T17:56:45.760669Z",
     "iopub.status.busy": "2024-07-04T17:56:45.760432Z",
     "iopub.status.idle": "2024-07-04T17:56:45.763672Z",
     "shell.execute_reply": "2024-07-04T17:56:45.763108Z",
     "shell.execute_reply.started": "2024-07-04T17:56:45.760650Z"
    }
   },
   "outputs": [],
   "source": [
    "def fetch_antarctica():\n",
    "    fname = PUPPY.fetch(\"antarctica.csv\")\n",
    "    return pd.read_csv(fname)\n",
    "\n",
    "def fetch_greenland():\n",
    "    fname = PUPPY.fetch(\"greenland.csv\")\n",
    "    return pd.read_csv(fname)"
   ]
  },
  {
   "cell_type": "code",
   "execution_count": 5,
   "id": "bf3b15be-ef8d-4e8c-8974-d56bb63705b9",
   "metadata": {
    "execution": {
     "iopub.execute_input": "2024-07-04T17:56:45.764593Z",
     "iopub.status.busy": "2024-07-04T17:56:45.764339Z",
     "iopub.status.idle": "2024-07-04T17:56:45.779310Z",
     "shell.execute_reply": "2024-07-04T17:56:45.778784Z",
     "shell.execute_reply.started": "2024-07-04T17:56:45.764573Z"
    }
   },
   "outputs": [
    {
     "data": {
      "text/html": [
       "<div>\n",
       "<style scoped>\n",
       "    .dataframe tbody tr th:only-of-type {\n",
       "        vertical-align: middle;\n",
       "    }\n",
       "\n",
       "    .dataframe tbody tr th {\n",
       "        vertical-align: top;\n",
       "    }\n",
       "\n",
       "    .dataframe thead th {\n",
       "        text-align: right;\n",
       "    }\n",
       "</style>\n",
       "<table border=\"1\" class=\"dataframe\">\n",
       "  <thead>\n",
       "    <tr style=\"text-align: right;\">\n",
       "      <th></th>\n",
       "      <th>date</th>\n",
       "      <th>cummulative_ice_mass_change</th>\n",
       "    </tr>\n",
       "  </thead>\n",
       "  <tbody>\n",
       "    <tr>\n",
       "      <th>0</th>\n",
       "      <td>2002-04-16</td>\n",
       "      <td>0.00</td>\n",
       "    </tr>\n",
       "    <tr>\n",
       "      <th>1</th>\n",
       "      <td>2002-05-08</td>\n",
       "      <td>19.48</td>\n",
       "    </tr>\n",
       "    <tr>\n",
       "      <th>2</th>\n",
       "      <td>2002-08-14</td>\n",
       "      <td>-58.91</td>\n",
       "    </tr>\n",
       "    <tr>\n",
       "      <th>3</th>\n",
       "      <td>2002-09-16</td>\n",
       "      <td>47.16</td>\n",
       "    </tr>\n",
       "    <tr>\n",
       "      <th>4</th>\n",
       "      <td>2002-10-15</td>\n",
       "      <td>63.42</td>\n",
       "    </tr>\n",
       "    <tr>\n",
       "      <th>...</th>\n",
       "      <td>...</td>\n",
       "      <td>...</td>\n",
       "    </tr>\n",
       "    <tr>\n",
       "      <th>187</th>\n",
       "      <td>2020-08-13</td>\n",
       "      <td>-2249.69</td>\n",
       "    </tr>\n",
       "    <tr>\n",
       "      <th>188</th>\n",
       "      <td>2020-09-15</td>\n",
       "      <td>-2437.63</td>\n",
       "    </tr>\n",
       "    <tr>\n",
       "      <th>189</th>\n",
       "      <td>2020-10-14</td>\n",
       "      <td>-2537.64</td>\n",
       "    </tr>\n",
       "    <tr>\n",
       "      <th>190</th>\n",
       "      <td>2020-11-12</td>\n",
       "      <td>-2587.65</td>\n",
       "    </tr>\n",
       "    <tr>\n",
       "      <th>191</th>\n",
       "      <td>2020-12-15</td>\n",
       "      <td>-2746.00</td>\n",
       "    </tr>\n",
       "  </tbody>\n",
       "</table>\n",
       "<p>192 rows × 2 columns</p>\n",
       "</div>"
      ],
      "text/plain": [
       "           date  cummulative_ice_mass_change\n",
       "0    2002-04-16                         0.00\n",
       "1    2002-05-08                        19.48\n",
       "2    2002-08-14                       -58.91\n",
       "3    2002-09-16                        47.16\n",
       "4    2002-10-15                        63.42\n",
       "..          ...                          ...\n",
       "187  2020-08-13                     -2249.69\n",
       "188  2020-09-15                     -2437.63\n",
       "189  2020-10-14                     -2537.64\n",
       "190  2020-11-12                     -2587.65\n",
       "191  2020-12-15                     -2746.00\n",
       "\n",
       "[192 rows x 2 columns]"
      ]
     },
     "execution_count": 5,
     "metadata": {},
     "output_type": "execute_result"
    }
   ],
   "source": [
    "fetch_antarctica()"
   ]
  },
  {
   "cell_type": "code",
   "execution_count": 6,
   "id": "bec8014a-0bfd-42be-8003-c47871967d86",
   "metadata": {
    "execution": {
     "iopub.execute_input": "2024-07-04T17:56:45.780222Z",
     "iopub.status.busy": "2024-07-04T17:56:45.780031Z",
     "iopub.status.idle": "2024-07-04T17:56:45.789802Z",
     "shell.execute_reply": "2024-07-04T17:56:45.789137Z",
     "shell.execute_reply.started": "2024-07-04T17:56:45.780204Z"
    }
   },
   "outputs": [
    {
     "data": {
      "text/html": [
       "<div>\n",
       "<style scoped>\n",
       "    .dataframe tbody tr th:only-of-type {\n",
       "        vertical-align: middle;\n",
       "    }\n",
       "\n",
       "    .dataframe tbody tr th {\n",
       "        vertical-align: top;\n",
       "    }\n",
       "\n",
       "    .dataframe thead th {\n",
       "        text-align: right;\n",
       "    }\n",
       "</style>\n",
       "<table border=\"1\" class=\"dataframe\">\n",
       "  <thead>\n",
       "    <tr style=\"text-align: right;\">\n",
       "      <th></th>\n",
       "      <th>date</th>\n",
       "      <th>cummulative_ice_mass_change</th>\n",
       "    </tr>\n",
       "  </thead>\n",
       "  <tbody>\n",
       "    <tr>\n",
       "      <th>0</th>\n",
       "      <td>2002-04-16</td>\n",
       "      <td>0.00</td>\n",
       "    </tr>\n",
       "    <tr>\n",
       "      <th>1</th>\n",
       "      <td>2002-05-08</td>\n",
       "      <td>67.36</td>\n",
       "    </tr>\n",
       "    <tr>\n",
       "      <th>2</th>\n",
       "      <td>2002-08-14</td>\n",
       "      <td>-219.73</td>\n",
       "    </tr>\n",
       "    <tr>\n",
       "      <th>3</th>\n",
       "      <td>2002-09-16</td>\n",
       "      <td>-242.79</td>\n",
       "    </tr>\n",
       "    <tr>\n",
       "      <th>4</th>\n",
       "      <td>2002-10-15</td>\n",
       "      <td>-207.56</td>\n",
       "    </tr>\n",
       "    <tr>\n",
       "      <th>...</th>\n",
       "      <td>...</td>\n",
       "      <td>...</td>\n",
       "    </tr>\n",
       "    <tr>\n",
       "      <th>187</th>\n",
       "      <td>2020-08-13</td>\n",
       "      <td>-4991.28</td>\n",
       "    </tr>\n",
       "    <tr>\n",
       "      <th>188</th>\n",
       "      <td>2020-09-15</td>\n",
       "      <td>-4996.08</td>\n",
       "    </tr>\n",
       "    <tr>\n",
       "      <th>189</th>\n",
       "      <td>2020-10-14</td>\n",
       "      <td>-4928.75</td>\n",
       "    </tr>\n",
       "    <tr>\n",
       "      <th>190</th>\n",
       "      <td>2020-11-12</td>\n",
       "      <td>-4922.26</td>\n",
       "    </tr>\n",
       "    <tr>\n",
       "      <th>191</th>\n",
       "      <td>2020-12-15</td>\n",
       "      <td>-4899.46</td>\n",
       "    </tr>\n",
       "  </tbody>\n",
       "</table>\n",
       "<p>192 rows × 2 columns</p>\n",
       "</div>"
      ],
      "text/plain": [
       "           date  cummulative_ice_mass_change\n",
       "0    2002-04-16                         0.00\n",
       "1    2002-05-08                        67.36\n",
       "2    2002-08-14                      -219.73\n",
       "3    2002-09-16                      -242.79\n",
       "4    2002-10-15                      -207.56\n",
       "..          ...                          ...\n",
       "187  2020-08-13                     -4991.28\n",
       "188  2020-09-15                     -4996.08\n",
       "189  2020-10-14                     -4928.75\n",
       "190  2020-11-12                     -4922.26\n",
       "191  2020-12-15                     -4899.46\n",
       "\n",
       "[192 rows x 2 columns]"
      ]
     },
     "execution_count": 6,
     "metadata": {},
     "output_type": "execute_result"
    }
   ],
   "source": [
    "fetch_greenland()"
   ]
  },
  {
   "cell_type": "markdown",
   "id": "57483e79-c411-46d6-b310-41da4b9d8922",
   "metadata": {},
   "source": [
    "## Download datasets from specific versions"
   ]
  },
  {
   "cell_type": "code",
   "execution_count": 7,
   "id": "00288fa1-16b6-4656-9b13-0734d22d2002",
   "metadata": {
    "execution": {
     "iopub.execute_input": "2024-07-04T17:56:45.792066Z",
     "iopub.status.busy": "2024-07-04T17:56:45.791831Z",
     "iopub.status.idle": "2024-07-04T17:56:45.795047Z",
     "shell.execute_reply": "2024-07-04T17:56:45.794508Z",
     "shell.execute_reply.started": "2024-07-04T17:56:45.792047Z"
    }
   },
   "outputs": [],
   "source": [
    "REGISTRY = {\n",
    "    \"antarctica.csv\": \"8d32a1a4b500c443981c60fc45a7126b16a9fd6d330c8107a1e584b81e841e53\",\n",
    "    \"greenland.csv\": \"0538ba7f521e5a73a70faa00d7f917a8bbdb549c94a6b823685ff3da985cb939\",\n",
    "}"
   ]
  },
  {
   "cell_type": "code",
   "execution_count": 8,
   "id": "54f838b7-033d-4f4b-987a-65a3cb061687",
   "metadata": {
    "execution": {
     "iopub.execute_input": "2024-07-04T17:56:45.796122Z",
     "iopub.status.busy": "2024-07-04T17:56:45.795754Z",
     "iopub.status.idle": "2024-07-04T17:56:45.799410Z",
     "shell.execute_reply": "2024-07-04T17:56:45.798652Z",
     "shell.execute_reply.started": "2024-07-04T17:56:45.796103Z"
    }
   },
   "outputs": [],
   "source": [
    "PUPPY = pooch.create(\n",
    "    path=pooch.os_cache(\"mypackage\"),\n",
    "    base_url=\"https://github.com/santisoler/ice-sheets/raw/{version}/datasets\",\n",
    "    version=\"v0.2.0\",\n",
    "    registry=REGISTRY,\n",
    ")"
   ]
  },
  {
   "cell_type": "code",
   "execution_count": 9,
   "id": "dc6f8d8b-95d9-434f-be09-1316453e7be8",
   "metadata": {
    "execution": {
     "iopub.execute_input": "2024-07-04T17:56:45.800585Z",
     "iopub.status.busy": "2024-07-04T17:56:45.800243Z",
     "iopub.status.idle": "2024-07-04T17:56:45.803672Z",
     "shell.execute_reply": "2024-07-04T17:56:45.803096Z",
     "shell.execute_reply.started": "2024-07-04T17:56:45.800566Z"
    }
   },
   "outputs": [],
   "source": [
    "def fetch_antarctica():\n",
    "    fname = PUPPY.fetch(\"antarctica.csv\")\n",
    "    return pd.read_csv(fname)\n",
    "\n",
    "def fetch_greenland():\n",
    "    fname = PUPPY.fetch(\"greenland.csv\")\n",
    "    return pd.read_csv(fname)"
   ]
  },
  {
   "cell_type": "code",
   "execution_count": 10,
   "id": "97ed85d2-dcfa-46dc-a10a-6e64534fbd63",
   "metadata": {
    "execution": {
     "iopub.execute_input": "2024-07-04T17:56:45.805095Z",
     "iopub.status.busy": "2024-07-04T17:56:45.804578Z",
     "iopub.status.idle": "2024-07-04T17:56:45.813948Z",
     "shell.execute_reply": "2024-07-04T17:56:45.813427Z",
     "shell.execute_reply.started": "2024-07-04T17:56:45.805075Z"
    }
   },
   "outputs": [
    {
     "data": {
      "text/html": [
       "<div>\n",
       "<style scoped>\n",
       "    .dataframe tbody tr th:only-of-type {\n",
       "        vertical-align: middle;\n",
       "    }\n",
       "\n",
       "    .dataframe tbody tr th {\n",
       "        vertical-align: top;\n",
       "    }\n",
       "\n",
       "    .dataframe thead th {\n",
       "        text-align: right;\n",
       "    }\n",
       "</style>\n",
       "<table border=\"1\" class=\"dataframe\">\n",
       "  <thead>\n",
       "    <tr style=\"text-align: right;\">\n",
       "      <th></th>\n",
       "      <th>date</th>\n",
       "      <th>cummulative_ice_mass_change</th>\n",
       "    </tr>\n",
       "  </thead>\n",
       "  <tbody>\n",
       "    <tr>\n",
       "      <th>0</th>\n",
       "      <td>2002-04-16</td>\n",
       "      <td>0.00</td>\n",
       "    </tr>\n",
       "    <tr>\n",
       "      <th>1</th>\n",
       "      <td>2002-05-08</td>\n",
       "      <td>19.48</td>\n",
       "    </tr>\n",
       "    <tr>\n",
       "      <th>2</th>\n",
       "      <td>2002-08-14</td>\n",
       "      <td>-58.91</td>\n",
       "    </tr>\n",
       "    <tr>\n",
       "      <th>3</th>\n",
       "      <td>2002-09-16</td>\n",
       "      <td>47.16</td>\n",
       "    </tr>\n",
       "    <tr>\n",
       "      <th>4</th>\n",
       "      <td>2002-10-15</td>\n",
       "      <td>63.42</td>\n",
       "    </tr>\n",
       "    <tr>\n",
       "      <th>...</th>\n",
       "      <td>...</td>\n",
       "      <td>...</td>\n",
       "    </tr>\n",
       "    <tr>\n",
       "      <th>187</th>\n",
       "      <td>2020-08-13</td>\n",
       "      <td>-2249.69</td>\n",
       "    </tr>\n",
       "    <tr>\n",
       "      <th>188</th>\n",
       "      <td>2020-09-15</td>\n",
       "      <td>-2437.63</td>\n",
       "    </tr>\n",
       "    <tr>\n",
       "      <th>189</th>\n",
       "      <td>2020-10-14</td>\n",
       "      <td>-2537.64</td>\n",
       "    </tr>\n",
       "    <tr>\n",
       "      <th>190</th>\n",
       "      <td>2020-11-12</td>\n",
       "      <td>-2587.65</td>\n",
       "    </tr>\n",
       "    <tr>\n",
       "      <th>191</th>\n",
       "      <td>2020-12-15</td>\n",
       "      <td>-2746.00</td>\n",
       "    </tr>\n",
       "  </tbody>\n",
       "</table>\n",
       "<p>192 rows × 2 columns</p>\n",
       "</div>"
      ],
      "text/plain": [
       "           date  cummulative_ice_mass_change\n",
       "0    2002-04-16                         0.00\n",
       "1    2002-05-08                        19.48\n",
       "2    2002-08-14                       -58.91\n",
       "3    2002-09-16                        47.16\n",
       "4    2002-10-15                        63.42\n",
       "..          ...                          ...\n",
       "187  2020-08-13                     -2249.69\n",
       "188  2020-09-15                     -2437.63\n",
       "189  2020-10-14                     -2537.64\n",
       "190  2020-11-12                     -2587.65\n",
       "191  2020-12-15                     -2746.00\n",
       "\n",
       "[192 rows x 2 columns]"
      ]
     },
     "execution_count": 10,
     "metadata": {},
     "output_type": "execute_result"
    }
   ],
   "source": [
    "fetch_antarctica()"
   ]
  },
  {
   "cell_type": "code",
   "execution_count": 11,
   "id": "44984a80-ca8d-4dc1-947d-1d438663cb2c",
   "metadata": {
    "execution": {
     "iopub.execute_input": "2024-07-04T17:56:45.814913Z",
     "iopub.status.busy": "2024-07-04T17:56:45.814725Z",
     "iopub.status.idle": "2024-07-04T17:56:45.824211Z",
     "shell.execute_reply": "2024-07-04T17:56:45.823593Z",
     "shell.execute_reply.started": "2024-07-04T17:56:45.814895Z"
    },
    "scrolled": true
   },
   "outputs": [
    {
     "data": {
      "text/html": [
       "<div>\n",
       "<style scoped>\n",
       "    .dataframe tbody tr th:only-of-type {\n",
       "        vertical-align: middle;\n",
       "    }\n",
       "\n",
       "    .dataframe tbody tr th {\n",
       "        vertical-align: top;\n",
       "    }\n",
       "\n",
       "    .dataframe thead th {\n",
       "        text-align: right;\n",
       "    }\n",
       "</style>\n",
       "<table border=\"1\" class=\"dataframe\">\n",
       "  <thead>\n",
       "    <tr style=\"text-align: right;\">\n",
       "      <th></th>\n",
       "      <th>date</th>\n",
       "      <th>cummulative_ice_mass_change</th>\n",
       "    </tr>\n",
       "  </thead>\n",
       "  <tbody>\n",
       "    <tr>\n",
       "      <th>0</th>\n",
       "      <td>2002-04-16</td>\n",
       "      <td>0.00</td>\n",
       "    </tr>\n",
       "    <tr>\n",
       "      <th>1</th>\n",
       "      <td>2002-05-08</td>\n",
       "      <td>67.36</td>\n",
       "    </tr>\n",
       "    <tr>\n",
       "      <th>2</th>\n",
       "      <td>2002-08-14</td>\n",
       "      <td>-219.73</td>\n",
       "    </tr>\n",
       "    <tr>\n",
       "      <th>3</th>\n",
       "      <td>2002-09-16</td>\n",
       "      <td>-242.79</td>\n",
       "    </tr>\n",
       "    <tr>\n",
       "      <th>4</th>\n",
       "      <td>2002-10-15</td>\n",
       "      <td>-207.56</td>\n",
       "    </tr>\n",
       "    <tr>\n",
       "      <th>...</th>\n",
       "      <td>...</td>\n",
       "      <td>...</td>\n",
       "    </tr>\n",
       "    <tr>\n",
       "      <th>187</th>\n",
       "      <td>2020-08-13</td>\n",
       "      <td>-4991.28</td>\n",
       "    </tr>\n",
       "    <tr>\n",
       "      <th>188</th>\n",
       "      <td>2020-09-15</td>\n",
       "      <td>-4996.08</td>\n",
       "    </tr>\n",
       "    <tr>\n",
       "      <th>189</th>\n",
       "      <td>2020-10-14</td>\n",
       "      <td>-4928.75</td>\n",
       "    </tr>\n",
       "    <tr>\n",
       "      <th>190</th>\n",
       "      <td>2020-11-12</td>\n",
       "      <td>-4922.26</td>\n",
       "    </tr>\n",
       "    <tr>\n",
       "      <th>191</th>\n",
       "      <td>2020-12-15</td>\n",
       "      <td>-4899.46</td>\n",
       "    </tr>\n",
       "  </tbody>\n",
       "</table>\n",
       "<p>192 rows × 2 columns</p>\n",
       "</div>"
      ],
      "text/plain": [
       "           date  cummulative_ice_mass_change\n",
       "0    2002-04-16                         0.00\n",
       "1    2002-05-08                        67.36\n",
       "2    2002-08-14                      -219.73\n",
       "3    2002-09-16                      -242.79\n",
       "4    2002-10-15                      -207.56\n",
       "..          ...                          ...\n",
       "187  2020-08-13                     -4991.28\n",
       "188  2020-09-15                     -4996.08\n",
       "189  2020-10-14                     -4928.75\n",
       "190  2020-11-12                     -4922.26\n",
       "191  2020-12-15                     -4899.46\n",
       "\n",
       "[192 rows x 2 columns]"
      ]
     },
     "execution_count": 11,
     "metadata": {},
     "output_type": "execute_result"
    }
   ],
   "source": [
    "fetch_greenland()"
   ]
  },
  {
   "cell_type": "markdown",
   "id": "a75427e6-327b-4d44-a5cd-85fbc3456499",
   "metadata": {},
   "source": [
    "## Download from previous version"
   ]
  },
  {
   "cell_type": "code",
   "execution_count": 12,
   "id": "e5631427-9d0d-4247-927f-2f18a82a54ac",
   "metadata": {
    "execution": {
     "iopub.execute_input": "2024-07-04T17:56:45.825219Z",
     "iopub.status.busy": "2024-07-04T17:56:45.825025Z",
     "iopub.status.idle": "2024-07-04T17:56:45.828221Z",
     "shell.execute_reply": "2024-07-04T17:56:45.827573Z",
     "shell.execute_reply.started": "2024-07-04T17:56:45.825201Z"
    }
   },
   "outputs": [],
   "source": [
    "REGISTRY = {\n",
    "    \"antarctica.csv\": \"e5c0f1741bc296bb54a1ec93166efc67e2e1cde8d74f1d8089bc68cf5ee1433d\",\n",
    "    \"greenland.csv\": \"8bf3ba40cd777bc5e18d247fbfbdb05c8ff454fa84059cdc3fc507b38d4e814a\",\n",
    "}"
   ]
  },
  {
   "cell_type": "code",
   "execution_count": 13,
   "id": "aafb6900-c1ac-417c-bc46-7475504bf552",
   "metadata": {
    "execution": {
     "iopub.execute_input": "2024-07-04T17:56:45.829241Z",
     "iopub.status.busy": "2024-07-04T17:56:45.828950Z",
     "iopub.status.idle": "2024-07-04T17:56:45.832623Z",
     "shell.execute_reply": "2024-07-04T17:56:45.831980Z",
     "shell.execute_reply.started": "2024-07-04T17:56:45.829221Z"
    }
   },
   "outputs": [],
   "source": [
    "PUPPY = pooch.create(\n",
    "    path=pooch.os_cache(\"mypackage\"),\n",
    "    base_url=\"https://github.com/santisoler/ice-sheets/raw/{version}/datasets\",\n",
    "    version=\"v0.1.0\",\n",
    "    registry=REGISTRY,\n",
    ")"
   ]
  },
  {
   "cell_type": "code",
   "execution_count": 14,
   "id": "48cd769f-4954-4e87-8320-b3bc458ccf6c",
   "metadata": {
    "execution": {
     "iopub.execute_input": "2024-07-04T17:56:45.833611Z",
     "iopub.status.busy": "2024-07-04T17:56:45.833351Z",
     "iopub.status.idle": "2024-07-04T17:56:45.836670Z",
     "shell.execute_reply": "2024-07-04T17:56:45.836137Z",
     "shell.execute_reply.started": "2024-07-04T17:56:45.833592Z"
    }
   },
   "outputs": [],
   "source": [
    "def fetch_antarctica():\n",
    "    fname = PUPPY.fetch(\"antarctica.csv\")\n",
    "    return pd.read_csv(fname)\n",
    "\n",
    "def fetch_greenland():\n",
    "    fname = PUPPY.fetch(\"greenland.csv\")\n",
    "    return pd.read_csv(fname)"
   ]
  },
  {
   "cell_type": "code",
   "execution_count": 15,
   "id": "2e73c893-c80d-4a88-9783-47f508c02326",
   "metadata": {
    "execution": {
     "iopub.execute_input": "2024-07-04T17:56:45.837546Z",
     "iopub.status.busy": "2024-07-04T17:56:45.837311Z",
     "iopub.status.idle": "2024-07-04T17:56:45.846506Z",
     "shell.execute_reply": "2024-07-04T17:56:45.845930Z",
     "shell.execute_reply.started": "2024-07-04T17:56:45.837529Z"
    }
   },
   "outputs": [
    {
     "data": {
      "text/html": [
       "<div>\n",
       "<style scoped>\n",
       "    .dataframe tbody tr th:only-of-type {\n",
       "        vertical-align: middle;\n",
       "    }\n",
       "\n",
       "    .dataframe tbody tr th {\n",
       "        vertical-align: top;\n",
       "    }\n",
       "\n",
       "    .dataframe thead th {\n",
       "        text-align: right;\n",
       "    }\n",
       "</style>\n",
       "<table border=\"1\" class=\"dataframe\">\n",
       "  <thead>\n",
       "    <tr style=\"text-align: right;\">\n",
       "      <th></th>\n",
       "      <th>date</th>\n",
       "      <th>cummulative_ice_mass_change</th>\n",
       "    </tr>\n",
       "  </thead>\n",
       "  <tbody>\n",
       "    <tr>\n",
       "      <th>0</th>\n",
       "      <td>2002-04-16</td>\n",
       "      <td>0.00</td>\n",
       "    </tr>\n",
       "    <tr>\n",
       "      <th>1</th>\n",
       "      <td>2002-05-08</td>\n",
       "      <td>19.48</td>\n",
       "    </tr>\n",
       "    <tr>\n",
       "      <th>2</th>\n",
       "      <td>2002-08-14</td>\n",
       "      <td>-58.91</td>\n",
       "    </tr>\n",
       "    <tr>\n",
       "      <th>3</th>\n",
       "      <td>2002-09-16</td>\n",
       "      <td>47.16</td>\n",
       "    </tr>\n",
       "    <tr>\n",
       "      <th>4</th>\n",
       "      <td>2002-10-15</td>\n",
       "      <td>63.42</td>\n",
       "    </tr>\n",
       "    <tr>\n",
       "      <th>...</th>\n",
       "      <td>...</td>\n",
       "      <td>...</td>\n",
       "    </tr>\n",
       "    <tr>\n",
       "      <th>158</th>\n",
       "      <td>2017-01-22</td>\n",
       "      <td>-1604.80</td>\n",
       "    </tr>\n",
       "    <tr>\n",
       "      <th>159</th>\n",
       "      <td>2017-04-02</td>\n",
       "      <td>-1929.12</td>\n",
       "    </tr>\n",
       "    <tr>\n",
       "      <th>160</th>\n",
       "      <td>2017-04-23</td>\n",
       "      <td>-1849.02</td>\n",
       "    </tr>\n",
       "    <tr>\n",
       "      <th>161</th>\n",
       "      <td>2017-05-12</td>\n",
       "      <td>-1814.26</td>\n",
       "    </tr>\n",
       "    <tr>\n",
       "      <th>162</th>\n",
       "      <td>2017-06-10</td>\n",
       "      <td>-1812.56</td>\n",
       "    </tr>\n",
       "  </tbody>\n",
       "</table>\n",
       "<p>163 rows × 2 columns</p>\n",
       "</div>"
      ],
      "text/plain": [
       "           date  cummulative_ice_mass_change\n",
       "0    2002-04-16                         0.00\n",
       "1    2002-05-08                        19.48\n",
       "2    2002-08-14                       -58.91\n",
       "3    2002-09-16                        47.16\n",
       "4    2002-10-15                        63.42\n",
       "..          ...                          ...\n",
       "158  2017-01-22                     -1604.80\n",
       "159  2017-04-02                     -1929.12\n",
       "160  2017-04-23                     -1849.02\n",
       "161  2017-05-12                     -1814.26\n",
       "162  2017-06-10                     -1812.56\n",
       "\n",
       "[163 rows x 2 columns]"
      ]
     },
     "execution_count": 15,
     "metadata": {},
     "output_type": "execute_result"
    }
   ],
   "source": [
    "fetch_antarctica()"
   ]
  },
  {
   "cell_type": "code",
   "execution_count": 16,
   "id": "f719e115-15b0-4815-af18-b86edf824091",
   "metadata": {
    "execution": {
     "iopub.execute_input": "2024-07-04T17:56:45.847502Z",
     "iopub.status.busy": "2024-07-04T17:56:45.847270Z",
     "iopub.status.idle": "2024-07-04T17:56:45.857064Z",
     "shell.execute_reply": "2024-07-04T17:56:45.856489Z",
     "shell.execute_reply.started": "2024-07-04T17:56:45.847476Z"
    },
    "scrolled": true
   },
   "outputs": [
    {
     "data": {
      "text/html": [
       "<div>\n",
       "<style scoped>\n",
       "    .dataframe tbody tr th:only-of-type {\n",
       "        vertical-align: middle;\n",
       "    }\n",
       "\n",
       "    .dataframe tbody tr th {\n",
       "        vertical-align: top;\n",
       "    }\n",
       "\n",
       "    .dataframe thead th {\n",
       "        text-align: right;\n",
       "    }\n",
       "</style>\n",
       "<table border=\"1\" class=\"dataframe\">\n",
       "  <thead>\n",
       "    <tr style=\"text-align: right;\">\n",
       "      <th></th>\n",
       "      <th>date</th>\n",
       "      <th>cummulative_ice_mass_change</th>\n",
       "    </tr>\n",
       "  </thead>\n",
       "  <tbody>\n",
       "    <tr>\n",
       "      <th>0</th>\n",
       "      <td>2002-04-16</td>\n",
       "      <td>0.00</td>\n",
       "    </tr>\n",
       "    <tr>\n",
       "      <th>1</th>\n",
       "      <td>2002-05-08</td>\n",
       "      <td>67.36</td>\n",
       "    </tr>\n",
       "    <tr>\n",
       "      <th>2</th>\n",
       "      <td>2002-08-14</td>\n",
       "      <td>-219.73</td>\n",
       "    </tr>\n",
       "    <tr>\n",
       "      <th>3</th>\n",
       "      <td>2002-09-16</td>\n",
       "      <td>-242.79</td>\n",
       "    </tr>\n",
       "    <tr>\n",
       "      <th>4</th>\n",
       "      <td>2002-10-15</td>\n",
       "      <td>-207.56</td>\n",
       "    </tr>\n",
       "    <tr>\n",
       "      <th>...</th>\n",
       "      <td>...</td>\n",
       "      <td>...</td>\n",
       "    </tr>\n",
       "    <tr>\n",
       "      <th>158</th>\n",
       "      <td>2017-01-22</td>\n",
       "      <td>-4014.72</td>\n",
       "    </tr>\n",
       "    <tr>\n",
       "      <th>159</th>\n",
       "      <td>2017-04-02</td>\n",
       "      <td>-4005.26</td>\n",
       "    </tr>\n",
       "    <tr>\n",
       "      <th>160</th>\n",
       "      <td>2017-04-23</td>\n",
       "      <td>-3971.53</td>\n",
       "    </tr>\n",
       "    <tr>\n",
       "      <th>161</th>\n",
       "      <td>2017-05-12</td>\n",
       "      <td>-3965.31</td>\n",
       "    </tr>\n",
       "    <tr>\n",
       "      <th>162</th>\n",
       "      <td>2017-06-10</td>\n",
       "      <td>-3996.01</td>\n",
       "    </tr>\n",
       "  </tbody>\n",
       "</table>\n",
       "<p>163 rows × 2 columns</p>\n",
       "</div>"
      ],
      "text/plain": [
       "           date  cummulative_ice_mass_change\n",
       "0    2002-04-16                         0.00\n",
       "1    2002-05-08                        67.36\n",
       "2    2002-08-14                      -219.73\n",
       "3    2002-09-16                      -242.79\n",
       "4    2002-10-15                      -207.56\n",
       "..          ...                          ...\n",
       "158  2017-01-22                     -4014.72\n",
       "159  2017-04-02                     -4005.26\n",
       "160  2017-04-23                     -3971.53\n",
       "161  2017-05-12                     -3965.31\n",
       "162  2017-06-10                     -3996.01\n",
       "\n",
       "[163 rows x 2 columns]"
      ]
     },
     "execution_count": 16,
     "metadata": {},
     "output_type": "execute_result"
    }
   ],
   "source": [
    "fetch_greenland()"
   ]
  }
 ],
 "metadata": {
  "kernelspec": {
   "display_name": "Python [conda env:scipy2024]",
   "language": "python",
   "name": "conda-env-scipy2024-py"
  },
  "language_info": {
   "codemirror_mode": {
    "name": "ipython",
    "version": 3
   },
   "file_extension": ".py",
   "mimetype": "text/x-python",
   "name": "python",
   "nbconvert_exporter": "python",
   "pygments_lexer": "ipython3",
   "version": "3.12.4"
  }
 },
 "nbformat": 4,
 "nbformat_minor": 5
}
