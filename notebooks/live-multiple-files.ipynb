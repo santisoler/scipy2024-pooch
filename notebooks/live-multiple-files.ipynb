{
 "cells": [
  {
   "cell_type": "markdown",
   "id": "1dabf693-561d-4ee4-ae39-7edef9b69505",
   "metadata": {},
   "source": [
    "# Managing multiple files\n",
    "\n",
    "Use the `pooch.Pooch` class to download multiple files from https://doi.org/10.5281/zenodo.3634713"
   ]
  },
  {
   "cell_type": "code",
   "execution_count": null,
   "id": "bb2c580a-5a57-4eab-b94b-2efd4a8cbcf7",
   "metadata": {},
   "outputs": [],
   "source": [
    "import pooch"
   ]
  },
  {
   "cell_type": "code",
   "execution_count": null,
   "id": "995dc105-b447-47ca-8b6c-c85e3be9ce2c",
   "metadata": {},
   "outputs": [],
   "source": [
    "doi = \"10.5281/zenodo.3634713\"\n",
    "\n",
    "registry = {\n",
    "    \"Land_and_Ocean_global_average_monthly.txt\": \"md5:708be4626734963c8f29978706e104bc\",\n",
    "    \"Land_and_Ocean_global_average_annual.txt\": \"md5:e04f1ba59ba4e35fabe872f47524f151\",\n",
    "}"
   ]
  }
 ],
 "metadata": {
  "kernelspec": {
   "display_name": "Python [conda env:scipy2024]",
   "language": "python",
   "name": "conda-env-scipy2024-py"
  },
  "language_info": {
   "codemirror_mode": {
    "name": "ipython",
    "version": 3
   },
   "file_extension": ".py",
   "mimetype": "text/x-python",
   "name": "python",
   "nbconvert_exporter": "python",
   "pygments_lexer": "ipython3",
   "version": "3.12.4"
  }
 },
 "nbformat": 4,
 "nbformat_minor": 5
}
